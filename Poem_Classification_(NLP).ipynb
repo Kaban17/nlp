{
  "nbformat": 4,
  "nbformat_minor": 0,
  "metadata": {
    "colab": {
      "provenance": [],
      "gpuType": "T4",
      "authorship_tag": "ABX9TyO/V2qNb3nG8n17BJF8bAsW",
      "include_colab_link": true
    },
    "kernelspec": {
      "name": "python3",
      "display_name": "Python 3"
    },
    "language_info": {
      "name": "python"
    },
    "accelerator": "GPU"
  },
  "cells": [
    {
      "cell_type": "markdown",
      "metadata": {
        "id": "view-in-github",
        "colab_type": "text"
      },
      "source": [
        "<a href=\"https://colab.research.google.com/github/Kaban17/nlp/blob/main/Poem_Classification_(NLP).ipynb\" target=\"_parent\"><img src=\"https://colab.research.google.com/assets/colab-badge.svg\" alt=\"Open In Colab\"/></a>"
      ]
    },
    {
      "cell_type": "markdown",
      "source": [
        "\n",
        "# Нейросесть, которая по стихотворному тексту определяет его жанр\n"
      ],
      "metadata": {
        "id": "J2qx60qZaJRj"
      }
    },
    {
      "cell_type": "code",
      "source": [
        "from google.colab import files\n",
        "data = files.upload()\n",
        "# https://www.kaggle.com/datasets/ramjasmaurya/poem-classification-nlp\n",
        "# датасет для этой сетки"
      ],
      "metadata": {
        "colab": {
          "base_uri": "https://localhost:8080/",
          "height": 38
        },
        "id": "jU2eQwIH8Hat",
        "outputId": "566122e0-5e1c-469e-8d63-297fd2bc5f3b"
      },
      "execution_count": null,
      "outputs": [
        {
          "output_type": "display_data",
          "data": {
            "text/plain": [
              "<IPython.core.display.HTML object>"
            ],
            "text/html": [
              "\n",
              "     <input type=\"file\" id=\"files-8d839ef9-b44d-401c-971c-c6f976b5f0b9\" name=\"files[]\" multiple disabled\n",
              "        style=\"border:none\" />\n",
              "     <output id=\"result-8d839ef9-b44d-401c-971c-c6f976b5f0b9\">\n",
              "      Upload widget is only available when the cell has been executed in the\n",
              "      current browser session. Please rerun this cell to enable.\n",
              "      </output>\n",
              "      <script>// Copyright 2017 Google LLC\n",
              "//\n",
              "// Licensed under the Apache License, Version 2.0 (the \"License\");\n",
              "// you may not use this file except in compliance with the License.\n",
              "// You may obtain a copy of the License at\n",
              "//\n",
              "//      http://www.apache.org/licenses/LICENSE-2.0\n",
              "//\n",
              "// Unless required by applicable law or agreed to in writing, software\n",
              "// distributed under the License is distributed on an \"AS IS\" BASIS,\n",
              "// WITHOUT WARRANTIES OR CONDITIONS OF ANY KIND, either express or implied.\n",
              "// See the License for the specific language governing permissions and\n",
              "// limitations under the License.\n",
              "\n",
              "/**\n",
              " * @fileoverview Helpers for google.colab Python module.\n",
              " */\n",
              "(function(scope) {\n",
              "function span(text, styleAttributes = {}) {\n",
              "  const element = document.createElement('span');\n",
              "  element.textContent = text;\n",
              "  for (const key of Object.keys(styleAttributes)) {\n",
              "    element.style[key] = styleAttributes[key];\n",
              "  }\n",
              "  return element;\n",
              "}\n",
              "\n",
              "// Max number of bytes which will be uploaded at a time.\n",
              "const MAX_PAYLOAD_SIZE = 100 * 1024;\n",
              "\n",
              "function _uploadFiles(inputId, outputId) {\n",
              "  const steps = uploadFilesStep(inputId, outputId);\n",
              "  const outputElement = document.getElementById(outputId);\n",
              "  // Cache steps on the outputElement to make it available for the next call\n",
              "  // to uploadFilesContinue from Python.\n",
              "  outputElement.steps = steps;\n",
              "\n",
              "  return _uploadFilesContinue(outputId);\n",
              "}\n",
              "\n",
              "// This is roughly an async generator (not supported in the browser yet),\n",
              "// where there are multiple asynchronous steps and the Python side is going\n",
              "// to poll for completion of each step.\n",
              "// This uses a Promise to block the python side on completion of each step,\n",
              "// then passes the result of the previous step as the input to the next step.\n",
              "function _uploadFilesContinue(outputId) {\n",
              "  const outputElement = document.getElementById(outputId);\n",
              "  const steps = outputElement.steps;\n",
              "\n",
              "  const next = steps.next(outputElement.lastPromiseValue);\n",
              "  return Promise.resolve(next.value.promise).then((value) => {\n",
              "    // Cache the last promise value to make it available to the next\n",
              "    // step of the generator.\n",
              "    outputElement.lastPromiseValue = value;\n",
              "    return next.value.response;\n",
              "  });\n",
              "}\n",
              "\n",
              "/**\n",
              " * Generator function which is called between each async step of the upload\n",
              " * process.\n",
              " * @param {string} inputId Element ID of the input file picker element.\n",
              " * @param {string} outputId Element ID of the output display.\n",
              " * @return {!Iterable<!Object>} Iterable of next steps.\n",
              " */\n",
              "function* uploadFilesStep(inputId, outputId) {\n",
              "  const inputElement = document.getElementById(inputId);\n",
              "  inputElement.disabled = false;\n",
              "\n",
              "  const outputElement = document.getElementById(outputId);\n",
              "  outputElement.innerHTML = '';\n",
              "\n",
              "  const pickedPromise = new Promise((resolve) => {\n",
              "    inputElement.addEventListener('change', (e) => {\n",
              "      resolve(e.target.files);\n",
              "    });\n",
              "  });\n",
              "\n",
              "  const cancel = document.createElement('button');\n",
              "  inputElement.parentElement.appendChild(cancel);\n",
              "  cancel.textContent = 'Cancel upload';\n",
              "  const cancelPromise = new Promise((resolve) => {\n",
              "    cancel.onclick = () => {\n",
              "      resolve(null);\n",
              "    };\n",
              "  });\n",
              "\n",
              "  // Wait for the user to pick the files.\n",
              "  const files = yield {\n",
              "    promise: Promise.race([pickedPromise, cancelPromise]),\n",
              "    response: {\n",
              "      action: 'starting',\n",
              "    }\n",
              "  };\n",
              "\n",
              "  cancel.remove();\n",
              "\n",
              "  // Disable the input element since further picks are not allowed.\n",
              "  inputElement.disabled = true;\n",
              "\n",
              "  if (!files) {\n",
              "    return {\n",
              "      response: {\n",
              "        action: 'complete',\n",
              "      }\n",
              "    };\n",
              "  }\n",
              "\n",
              "  for (const file of files) {\n",
              "    const li = document.createElement('li');\n",
              "    li.append(span(file.name, {fontWeight: 'bold'}));\n",
              "    li.append(span(\n",
              "        `(${file.type || 'n/a'}) - ${file.size} bytes, ` +\n",
              "        `last modified: ${\n",
              "            file.lastModifiedDate ? file.lastModifiedDate.toLocaleDateString() :\n",
              "                                    'n/a'} - `));\n",
              "    const percent = span('0% done');\n",
              "    li.appendChild(percent);\n",
              "\n",
              "    outputElement.appendChild(li);\n",
              "\n",
              "    const fileDataPromise = new Promise((resolve) => {\n",
              "      const reader = new FileReader();\n",
              "      reader.onload = (e) => {\n",
              "        resolve(e.target.result);\n",
              "      };\n",
              "      reader.readAsArrayBuffer(file);\n",
              "    });\n",
              "    // Wait for the data to be ready.\n",
              "    let fileData = yield {\n",
              "      promise: fileDataPromise,\n",
              "      response: {\n",
              "        action: 'continue',\n",
              "      }\n",
              "    };\n",
              "\n",
              "    // Use a chunked sending to avoid message size limits. See b/62115660.\n",
              "    let position = 0;\n",
              "    do {\n",
              "      const length = Math.min(fileData.byteLength - position, MAX_PAYLOAD_SIZE);\n",
              "      const chunk = new Uint8Array(fileData, position, length);\n",
              "      position += length;\n",
              "\n",
              "      const base64 = btoa(String.fromCharCode.apply(null, chunk));\n",
              "      yield {\n",
              "        response: {\n",
              "          action: 'append',\n",
              "          file: file.name,\n",
              "          data: base64,\n",
              "        },\n",
              "      };\n",
              "\n",
              "      let percentDone = fileData.byteLength === 0 ?\n",
              "          100 :\n",
              "          Math.round((position / fileData.byteLength) * 100);\n",
              "      percent.textContent = `${percentDone}% done`;\n",
              "\n",
              "    } while (position < fileData.byteLength);\n",
              "  }\n",
              "\n",
              "  // All done.\n",
              "  yield {\n",
              "    response: {\n",
              "      action: 'complete',\n",
              "    }\n",
              "  };\n",
              "}\n",
              "\n",
              "scope.google = scope.google || {};\n",
              "scope.google.colab = scope.google.colab || {};\n",
              "scope.google.colab._files = {\n",
              "  _uploadFiles,\n",
              "  _uploadFilesContinue,\n",
              "};\n",
              "})(self);\n",
              "</script> "
            ]
          },
          "metadata": {}
        }
      ]
    },
    {
      "cell_type": "code",
      "source": [
        "!unzip archive.zip"
      ],
      "metadata": {
        "colab": {
          "base_uri": "https://localhost:8080/"
        },
        "id": "89HGjKhR8Ppr",
        "outputId": "2c0c1fb7-3b84-45d3-9dda-46174e9c9e25"
      },
      "execution_count": null,
      "outputs": [
        {
          "output_type": "stream",
          "name": "stdout",
          "text": [
            "Archive:  archive.zip\n",
            "replace Poem_classification - test_data.csv? [y]es, [n]o, [A]ll, [N]one, [r]ename: A\n",
            "  inflating: Poem_classification - test_data.csv  \n",
            "  inflating: Poem_classification - train_data.csv  \n"
          ]
        }
      ]
    },
    {
      "cell_type": "code",
      "source": [
        "import pandas as pd\n",
        "import re\n",
        "from nltk.tokenize import word_tokenize\n",
        "from nltk.stem import WordNetLemmatizer\n",
        "from tensorflow.keras.preprocessing.sequence import pad_sequences\n",
        "from tensorflow.keras.preprocessing.text import Tokenizer\n",
        "from sklearn.preprocessing import LabelEncoder\n",
        "from sklearn.model_selection import train_test_split\n",
        "import torch\n",
        "import torch.nn as nn\n",
        "import torch.optim as optim\n",
        "from torch.utils.data import Dataset, DataLoader\n",
        "from tqdm import tqdm"
      ],
      "metadata": {
        "id": "Aqvb95th8iwl"
      },
      "execution_count": null,
      "outputs": []
    },
    {
      "cell_type": "code",
      "source": [
        "\n",
        "# загружаем данные\n",
        "data_train = pd.read_csv(f'Poem_classification - train_data.csv', skiprows=2, header=None, names=['Genre', 'Poem'])\n",
        "data_test = pd.read_csv('Poem_classification - test_data.csv', skiprows=2, header=None, names=['Genre', 'Poem'])\n"
      ],
      "metadata": {
        "id": "YvlzPWFM8mWa"
      },
      "execution_count": null,
      "outputs": []
    },
    {
      "cell_type": "code",
      "source": [
        "# разделяем столбцы на 2 разных\n",
        "genres_train = data_train['Genre'].values\n",
        "poems_train = data_train['Poem'].values\n",
        "genres_test = data_test['Genre'].values\n",
        "poems_test = data_test['Poem'].values\n",
        "\n",
        "print(\"Genres:\", genres_train[10:21])\n",
        "print(\"Poems:\", poems_train[0:2])"
      ],
      "metadata": {
        "colab": {
          "base_uri": "https://localhost:8080/"
        },
        "id": "QU8_lwHW8qra",
        "outputId": "73d82e57-6f1d-4357-d004-bc78fba09ba7"
      },
      "execution_count": null,
      "outputs": [
        {
          "output_type": "stream",
          "name": "stdout",
          "text": [
            "Genres: ['Music' 'Music' 'Music' 'Music' 'Music' 'Music' 'Music' 'Music' 'Music'\n",
            " 'Music' 'Music']\n",
            "Poems: ['\\xa0 \\xa0 \\xa0 \\xa0 \\xa0 \\xa0 \\xa0 In the thick brushthey spend the hottest part of the day,\\xa0 \\xa0 \\xa0 \\xa0 \\xa0 \\xa0 \\xa0 soaking their hoovesin the trickle of mountain water\\xa0 \\xa0 \\xa0 \\xa0 \\xa0 \\xa0 \\xa0 the ravine hoardson behalf of the oleander.\\xa0 \\xa0 \\xa0 \\xa0 \\xa0 \\xa0'\n",
            " '\\xa0 \\xa0Storms are generous.\\xa0 \\xa0 \\xa0 \\xa0 \\xa0 \\xa0 \\xa0 \\xa0 \\xa0 \\xa0 \\xa0 \\xa0 \\xa0 \\xa0 \\xa0 \\xa0 \\xa0 \\xa0 \\xa0 Something so easy to surrender to, sitting by the window,\\xa0and then you step out into the garden you were so bored of,\\xa0 \\xa0 \\xa0 \\xa0 \\xa0 \\xa0 \\xa0']\n"
          ]
        }
      ]
    },
    {
      "cell_type": "code",
      "source": [
        "# обрабатываем текст\n",
        "def preprocess_text(text):\n",
        "    text = re.sub(r'\\s+', ' ', text)\n",
        "    text = text.strip()\n",
        "    text = text.lower()\n",
        "    text = re.sub(r'\\d+', '', text)\n",
        "    text = re.sub(r'[^\\w\\s]', '', text)\n",
        "    return text\n",
        "\n",
        "# проверяем, что все записи являются строками перед обработкой\n",
        "# если это не проверять, то почему то кидает ошибку\n",
        "poems_train = [preprocess_text(poem) for poem in poems_train if isinstance(poem, str)]\n",
        "poems_test = [preprocess_text(poem) for poem in poems_test if isinstance(poem, str)]"
      ],
      "metadata": {
        "id": "rzopizRo8xuR"
      },
      "execution_count": null,
      "outputs": []
    },
    {
      "cell_type": "code",
      "source": [
        "print(len(poems_train))"
      ],
      "metadata": {
        "colab": {
          "base_uri": "https://localhost:8080/"
        },
        "id": "eIADm8r_DB5K",
        "outputId": "db6c7c7c-bfec-41c9-f913-42ff9d1904a2"
      },
      "execution_count": null,
      "outputs": [
        {
          "output_type": "stream",
          "name": "stdout",
          "text": [
            "837\n"
          ]
        }
      ]
    },
    {
      "cell_type": "code",
      "source": [
        "# токенизация текстов\n",
        "tokenizer = Tokenizer()\n",
        "tokenizer.fit_on_texts(poems_train)\n",
        "sequences_train = tokenizer.texts_to_sequences(poems_train)\n",
        "sequences_test = tokenizer.texts_to_sequences(poems_test)\n",
        "\n",
        "print(\"First 5 tokenized train sequences:\", sequences_train[:5])\n",
        "print(\"First 5 tokenized test sequences:\", sequences_test[:5])"
      ],
      "metadata": {
        "colab": {
          "base_uri": "https://localhost:8080/"
        },
        "id": "-i-JxLHt81-e",
        "outputId": "26e869a8-9dea-4d02-f8b6-e7c00fd8fea3"
      },
      "execution_count": null,
      "outputs": [
        {
          "output_type": "stream",
          "name": "stdout",
          "text": [
            "First 5 tokenized train sequences: [[7, 1, 655, 2961, 1650, 1, 1651, 497, 4, 1, 70, 2962, 49, 2963, 1, 900, 4, 306, 106, 1, 1652, 2964, 2965, 4, 1, 2966], [758, 24, 1653, 175, 41, 498, 5, 2967, 5, 1654, 31, 1, 256, 3, 82, 10, 499, 46, 42, 1, 257, 10, 51, 41, 1141, 4], [69, 2968, 2969, 104, 10, 500, 143, 1, 1655, 237, 104, 10, 288, 2970, 7, 40, 191, 74, 10, 353, 5, 2971, 2972, 901, 2973, 54, 1, 128, 74, 10, 759, 1, 1656, 4, 59, 760, 761, 166, 31, 60, 74], [14, 2974, 2975, 23, 1, 2976, 198, 307, 39, 383, 2977, 2978, 238, 5, 500, 2979, 4, 2980, 15, 22, 2981, 137, 23, 73, 18, 2982, 4, 239, 1, 2983, 44, 1657, 2984, 30, 289, 8], [14, 1658, 2985, 2986, 1659, 107, 8, 1, 1660, 128, 15, 2, 1661, 1142, 30, 8, 1, 308, 2, 258, 93, 67, 7, 2987, 1, 121, 902, 7, 99, 3, 2988, 575, 4, 1662, 2989]]\n",
            "First 5 tokenized test sequences: [[141, 6, 56, 2, 363, 1, 4, 9, 8514, 386, 1, 701, 4, 7, 9, 1518, 1, 538, 4, 2879, 1, 387, 379, 2038, 2, 39, 27, 2360, 918, 7, 25, 6, 374, 1, 670, 360, 7, 1, 24], [141, 373, 19, 104, 17, 539, 30, 58, 2, 370, 29, 5, 47, 32, 39, 4677, 36, 27, 8, 29, 204, 4, 18, 83, 18, 1, 182, 15, 10, 527, 229, 86, 39, 1059, 12, 2, 1275], [483, 67, 111, 107, 111, 107, 5190, 11, 33, 2, 1, 1125, 2, 391, 52, 10, 188, 1, 139, 67, 115, 111, 2, 102, 2962, 42, 27, 124, 30, 39, 1, 1210, 14, 548, 99, 2124, 1396, 7844, 390, 1122, 8835, 2416, 5], [6, 378, 8041, 55, 202, 1, 4, 1, 16, 179, 894, 677, 791, 6, 33, 4844, 5, 708], [6, 215, 6, 74, 807, 2, 1, 256, 12, 29, 7, 1, 596, 23, 1, 3, 2767, 2, 1, 142, 4, 890, 6143, 1032, 187, 2, 23, 1, 230, 2, 1186, 1, 8885]]\n"
          ]
        }
      ]
    },
    {
      "cell_type": "code",
      "source": [
        "# пэддинг последовательностей\n",
        "maxlen = max(max(len(seq) for seq in sequences_train), max(len(seq) for seq in sequences_test))\n",
        "padded_sequences_train = pad_sequences(sequences_train, maxlen=maxlen, padding='post')\n",
        "padded_sequences_test = pad_sequences(sequences_test, maxlen=maxlen, padding='post')"
      ],
      "metadata": {
        "id": "jJ3gp0ou9Ffc"
      },
      "execution_count": null,
      "outputs": []
    },
    {
      "cell_type": "code",
      "source": [
        "# заменяем жанры на enum\n",
        "label_encoder = LabelEncoder()\n",
        "labels_train = label_encoder.fit_transform(genres_train)\n",
        "labels_test = label_encoder.transform(genres_test)"
      ],
      "metadata": {
        "id": "Syem5eLt9HVp"
      },
      "execution_count": null,
      "outputs": []
    },
    {
      "cell_type": "code",
      "source": [
        "# создание Dataset и DataLoader\n",
        "class TextDataset(Dataset):\n",
        "    def __init__(self, texts, labels):\n",
        "        self.texts = torch.tensor(texts, dtype=torch.long)\n",
        "        self.labels = torch.tensor(labels, dtype=torch.long)\n",
        "\n",
        "    def __len__(self):\n",
        "        return len(self.texts)\n",
        "\n",
        "    def __getitem__(self, idx):\n",
        "        return self.texts[idx], self.labels[idx]\n",
        "\n",
        "train_dataset = TextDataset(padded_sequences_train, labels_train)\n",
        "test_dataset = TextDataset(padded_sequences_test, labels_test)\n",
        "\n",
        "train_loader = DataLoader(train_dataset, batch_size=32, shuffle=True)\n",
        "test_loader = DataLoader(test_dataset, batch_size=32, shuffle=False)"
      ],
      "metadata": {
        "id": "lRBg1j9g9vDH"
      },
      "execution_count": null,
      "outputs": []
    },
    {
      "cell_type": "code",
      "source": [
        "# создаем сеть\n",
        "class RNNModel(nn.Module):\n",
        "    def __init__(self, vocab_size, embed_dim, hidden_dim, output_dim):\n",
        "        super(RNNModel, self).__init__()\n",
        "        self.embedding = nn.Embedding(vocab_size, embed_dim)\n",
        "        self.rnn = nn.LSTM(embed_dim, hidden_dim, batch_first=True)\n",
        "        self.fc = nn.Linear(hidden_dim, output_dim)\n",
        "\n",
        "    def forward(self, x):\n",
        "        x = self.embedding(x)\n",
        "        x, _ = self.rnn(x)\n",
        "        x = x[:, -1, :]  # Используем последний выход RNN\n",
        "        x = self.fc(x)\n",
        "        return x"
      ],
      "metadata": {
        "id": "1bd4Zv4H923M"
      },
      "execution_count": null,
      "outputs": []
    },
    {
      "cell_type": "code",
      "source": [
        "device = torch.device('cuda' if torch.cuda.is_available() else 'cpu')"
      ],
      "metadata": {
        "id": "Ig4lIL6D-YRu"
      },
      "execution_count": null,
      "outputs": []
    },
    {
      "cell_type": "code",
      "source": [
        "model = RNNModel(vocab_size=len(tokenizer.word_index) + 1, embed_dim=100, hidden_dim=128, output_dim=len(set(labels_train)))\n",
        "model.to(device)\n",
        "# на gpu обучение идет очень быстро"
      ],
      "metadata": {
        "colab": {
          "base_uri": "https://localhost:8080/"
        },
        "id": "WfhXvafa-bbE",
        "outputId": "9b2f5f45-381f-4662-b9fd-0338e6451577"
      },
      "execution_count": null,
      "outputs": [
        {
          "output_type": "execute_result",
          "data": {
            "text/plain": [
              "RNNModel(\n",
              "  (embedding): Embedding(9379, 100)\n",
              "  (rnn): LSTM(100, 128, batch_first=True)\n",
              "  (fc): Linear(in_features=128, out_features=4, bias=True)\n",
              ")"
            ]
          },
          "metadata": {},
          "execution_count": 143
        }
      ]
    },
    {
      "cell_type": "code",
      "source": [
        "criterion = nn.CrossEntropyLoss() # функция потерь - кросс энтропия.\n",
        "optimizer = optim.Adam(model.parameters(), lr=0.001)"
      ],
      "metadata": {
        "id": "vb0_B2mB-eXN"
      },
      "execution_count": null,
      "outputs": []
    },
    {
      "cell_type": "code",
      "execution_count": null,
      "metadata": {
        "colab": {
          "base_uri": "https://localhost:8080/"
        },
        "id": "IVj6FIkp8FaN",
        "outputId": "9e2467dc-f06a-4153-d099-42943c33e597"
      },
      "outputs": [
        {
          "output_type": "stream",
          "name": "stderr",
          "text": [
            "ep_id 1/10:.2f: 100%|██████████| 27/27 [00:00<00:00, 161.47it/s, loss=1.38]\n"
          ]
        },
        {
          "output_type": "stream",
          "name": "stdout",
          "text": [
            "Ep 1/10, Loss: 1.38\n"
          ]
        },
        {
          "output_type": "stream",
          "name": "stderr",
          "text": [
            "ep_id 2/10:.2f: 100%|██████████| 27/27 [00:00<00:00, 166.50it/s, loss=1.38]\n"
          ]
        },
        {
          "output_type": "stream",
          "name": "stdout",
          "text": [
            "Ep 2/10, Loss: 1.38\n"
          ]
        },
        {
          "output_type": "stream",
          "name": "stderr",
          "text": [
            "ep_id 3/10:.2f: 100%|██████████| 27/27 [00:00<00:00, 152.70it/s, loss=1.37]\n"
          ]
        },
        {
          "output_type": "stream",
          "name": "stdout",
          "text": [
            "Ep 3/10, Loss: 1.37\n"
          ]
        },
        {
          "output_type": "stream",
          "name": "stderr",
          "text": [
            "ep_id 4/10:.2f: 100%|██████████| 27/27 [00:00<00:00, 141.86it/s, loss=1.37]\n"
          ]
        },
        {
          "output_type": "stream",
          "name": "stdout",
          "text": [
            "Ep 4/10, Loss: 1.37\n"
          ]
        },
        {
          "output_type": "stream",
          "name": "stderr",
          "text": [
            "ep_id 5/10:.2f: 100%|██████████| 27/27 [00:00<00:00, 147.16it/s, loss=1.37]\n"
          ]
        },
        {
          "output_type": "stream",
          "name": "stdout",
          "text": [
            "Ep 5/10, Loss: 1.37\n"
          ]
        },
        {
          "output_type": "stream",
          "name": "stderr",
          "text": [
            "ep_id 6/10:.2f: 100%|██████████| 27/27 [00:00<00:00, 122.42it/s, loss=1.37]\n"
          ]
        },
        {
          "output_type": "stream",
          "name": "stdout",
          "text": [
            "Ep 6/10, Loss: 1.37\n"
          ]
        },
        {
          "output_type": "stream",
          "name": "stderr",
          "text": [
            "ep_id 7/10:.2f: 100%|██████████| 27/27 [00:00<00:00, 136.53it/s, loss=1.37]\n"
          ]
        },
        {
          "output_type": "stream",
          "name": "stdout",
          "text": [
            "Ep 7/10, Loss: 1.37\n"
          ]
        },
        {
          "output_type": "stream",
          "name": "stderr",
          "text": [
            "ep_id 8/10:.2f: 100%|██████████| 27/27 [00:00<00:00, 121.48it/s, loss=1.37]\n"
          ]
        },
        {
          "output_type": "stream",
          "name": "stdout",
          "text": [
            "Ep 8/10, Loss: 1.37\n"
          ]
        },
        {
          "output_type": "stream",
          "name": "stderr",
          "text": [
            "ep_id 9/10:.2f: 100%|██████████| 27/27 [00:00<00:00, 115.99it/s, loss=1.36]\n"
          ]
        },
        {
          "output_type": "stream",
          "name": "stdout",
          "text": [
            "Ep 9/10, Loss: 1.36\n"
          ]
        },
        {
          "output_type": "stream",
          "name": "stderr",
          "text": [
            "ep_id 10/10:.2f: 100%|██████████| 27/27 [00:00<00:00, 111.57it/s, loss=1.37]"
          ]
        },
        {
          "output_type": "stream",
          "name": "stdout",
          "text": [
            "Ep 10/10, Loss: 1.37\n"
          ]
        },
        {
          "output_type": "stream",
          "name": "stderr",
          "text": [
            "\n"
          ]
        }
      ],
      "source": [
        "# обучаем нашу нейросетку\n",
        "# данных мало и уже на 15 эпохах происходит переобучение. это довольно занятно\n",
        "epochs = 10\n",
        "for ep_id in range(epochs):\n",
        "    model.train()\n",
        "    running_loss = 0.0\n",
        "    bar = tqdm(train_loader, desc=f'ep_id {ep_id+1}/{epochs}:.2f')\n",
        "    for texts, labels in bar:\n",
        "        texts, labels = texts.to(device), labels.to(device)\n",
        "        optimizer.zero_grad()\n",
        "        outputs = model(texts)\n",
        "        loss = criterion(outputs, labels)\n",
        "        loss.backward()\n",
        "        optimizer.step()\n",
        "\n",
        "        running_loss += loss.item()\n",
        "        bar.set_postfix(loss=running_loss/len(train_loader))\n",
        "\n",
        "    print(f'Ep {ep_id+1}/{epochs}, Loss: {running_loss/len(train_loader):.2f}')"
      ]
    },
    {
      "cell_type": "code",
      "source": [
        "# считаем потери\n",
        "model.eval()\n",
        "with torch.no_grad():\n",
        "    correct = 0\n",
        "    total = 0\n",
        "    for texts, labels in test_loader:\n",
        "        texts, labels = texts.to(device), labels.to(device)\n",
        "        outputs = model(texts)\n",
        "        _, predicted = torch.max(outputs.data, 1)\n",
        "        total += labels.size(0)\n",
        "        correct += (predicted == labels).sum().item()\n",
        "\n",
        "accuracy = 100 * correct / total\n",
        "print(f\"Accuracy: {accuracy:.2f}%\")"
      ],
      "metadata": {
        "colab": {
          "base_uri": "https://localhost:8080/"
        },
        "id": "W-ruBBuN-p5E",
        "outputId": "abd75b9f-e194-4028-8e2e-e3de2149ca0b"
      },
      "execution_count": null,
      "outputs": [
        {
          "output_type": "stream",
          "name": "stdout",
          "text": [
            "Accuracy: 7.38%\n"
          ]
        }
      ]
    }
  ]
}